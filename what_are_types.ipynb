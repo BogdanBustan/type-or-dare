{
 "cells": [
  {
   "cell_type": "code",
   "id": "initial_id",
   "metadata": {
    "collapsed": true
   },
   "source": [
    "a = 5\n",
    "a = \"five\"\n",
    "a"
   ],
   "outputs": [],
   "execution_count": null
  },
  {
   "metadata": {},
   "cell_type": "code",
   "source": [
    "a = tuple()\n",
    "a"
   ],
   "id": "4fb2ce14399c71fd",
   "outputs": [],
   "execution_count": null
  },
  {
   "metadata": {},
   "cell_type": "code",
   "source": [
    "a: int = 5\n",
    "a = \"five\"\n",
    "a"
   ],
   "id": "7641c80129fc738",
   "outputs": [],
   "execution_count": null
  },
  {
   "metadata": {},
   "cell_type": "code",
   "source": [
    "from typing import Iterable\n",
    "\n",
    "def print_items(items: Iterable):\n",
    "    for item in items:\n",
    "        print(item)"
   ],
   "id": "8109834514a3fef6",
   "outputs": [],
   "execution_count": null
  },
  {
   "metadata": {},
   "cell_type": "code",
   "source": [
    "print_items([1,2,3])\n",
    "print_items({4, 5, 6})\n",
    "print_items({\"A\": 1, \"B\": 2, \"C\": 3})"
   ],
   "id": "505c48b3faa5bff9",
   "outputs": [],
   "execution_count": null
  },
  {
   "metadata": {},
   "cell_type": "code",
   "source": "print_items(5)",
   "id": "77a2520c6317d5ea",
   "outputs": [],
   "execution_count": null
  },
  {
   "metadata": {},
   "cell_type": "code",
   "source": [
    "def double_value(value):\n",
    "    return value + value"
   ],
   "id": "a3b9022758aa196a",
   "outputs": [],
   "execution_count": null
  },
  {
   "metadata": {},
   "cell_type": "code",
   "source": "double_value(5)",
   "id": "276765767b542ad2",
   "outputs": [],
   "execution_count": null
  },
  {
   "metadata": {},
   "cell_type": "code",
   "source": "double_value(\"five\")",
   "id": "d8c48a4e3f5f68b2",
   "outputs": [],
   "execution_count": null
  },
  {
   "metadata": {},
   "cell_type": "code",
   "source": "double_value([1, 2, 3])",
   "id": "ca08d1df3f83bd10",
   "outputs": [],
   "execution_count": null
  },
  {
   "metadata": {},
   "cell_type": "code",
   "source": "",
   "id": "73b8c4a7a0ffd5ba",
   "outputs": [],
   "execution_count": null
  }
 ],
 "metadata": {
  "kernelspec": {
   "display_name": "Python 3",
   "language": "python",
   "name": "python3"
  },
  "language_info": {
   "codemirror_mode": {
    "name": "ipython",
    "version": 2
   },
   "file_extension": ".py",
   "mimetype": "text/x-python",
   "name": "python",
   "nbconvert_exporter": "python",
   "pygments_lexer": "ipython2",
   "version": "2.7.6"
  }
 },
 "nbformat": 4,
 "nbformat_minor": 5
}
